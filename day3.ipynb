{
 "cells": [
  {
   "cell_type": "code",
   "execution_count": 1,
   "id": "d742eea1",
   "metadata": {},
   "outputs": [
    {
     "name": "stdout",
     "output_type": "stream",
     "text": [
      "Enter a number23\n",
      "Enter a number34\n"
     ]
    },
    {
     "data": {
      "text/plain": [
       "57"
      ]
     },
     "execution_count": 1,
     "metadata": {},
     "output_type": "execute_result"
    }
   ],
   "source": [
    "def calc(a,b):\n",
    "        c=a+b\n",
    "        return c\n",
    "a=int(input('Enter a number' ))\n",
    "b=int(input('Enter a number' ))\n",
    "calc(a,b)"
   ]
  },
  {
   "cell_type": "code",
   "execution_count": null,
   "id": "cb5d8d02",
   "metadata": {},
   "outputs": [],
   "source": [
    "a=int(input('Enter a number' ))\n",
    "b=int(input('Enter a number' ))\n",
    "c=int(input('Enter a number' ))"
   ]
  },
  {
   "cell_type": "code",
   "execution_count": 1,
   "id": "00b7e97c",
   "metadata": {},
   "outputs": [
    {
     "name": "stdout",
     "output_type": "stream",
     "text": [
      "Enter a number34\n",
      "Enter a number54\n",
      "Enter a number23\n"
     ]
    },
    {
     "data": {
      "text/plain": [
       "54"
      ]
     },
     "execution_count": 1,
     "metadata": {},
     "output_type": "execute_result"
    }
   ],
   "source": [
    "def largest(a,b,c):\n",
    "    if a>b and a>c:\n",
    "        return a\n",
    "    \n",
    "    elif b>a and b>c:\n",
    "        return b\n",
    "    else:\n",
    "        return c\n",
    "a=int(input('Enter a number' ))\n",
    "b=int(input('Enter a number' ))\n",
    "c=int(input('Enter a number' ))\n",
    "largest(a,b,c)\n",
    "        "
   ]
  },
  {
   "cell_type": "code",
   "execution_count": 5,
   "id": "4b50e77f",
   "metadata": {},
   "outputs": [
    {
     "name": "stdout",
     "output_type": "stream",
     "text": [
      "Top Second is : 60\n"
     ]
    }
   ],
   "source": [
    "scores=[40,50,60,70]\n",
    "\n",
    "unique=list(set(scores))\n",
    "sort= sorted(unique,reverse=True)\n",
    "print(\"Top Second is :\",sort[1])"
   ]
  },
  {
   "cell_type": "code",
   "execution_count": 10,
   "id": "f66b110b",
   "metadata": {},
   "outputs": [
    {
     "name": "stdout",
     "output_type": "stream",
     "text": [
      "{3}\n"
     ]
    }
   ],
   "source": [
    "s1={5,6,8,3,9,}\n",
    "s2={3,1,2,10,4}\n",
    "if s1.intersection(s2):\n",
    "     print(s1&s2)\n",
    "else:\n",
    "     print(s1.union(s2))\n",
    "    "
   ]
  },
  {
   "cell_type": "code",
   "execution_count": 11,
   "id": "6034d8fa",
   "metadata": {},
   "outputs": [
    {
     "name": "stdout",
     "output_type": "stream",
     "text": [
      "Enter the name to be updatedjohn\n",
      "{'john': [88, 77, 99], 'peter': [87, 55, 96], 'ram': [58, 55, 43], 'meena': [63, 79, 85]}\n"
     ]
    }
   ],
   "source": [
    "D={'john' :[25,32,43],'peter':[87,55,96],'ram':[58,55,43],'meena':[63,79,85]}\n",
    "n= input('Enter the name to be updated')\n",
    "if n in D:\n",
    "    D[n]=[88,77,99]\n",
    "    print(D)\n",
    "else:\n",
    "    print('Name not found')"
   ]
  },
  {
   "cell_type": "code",
   "execution_count": 12,
   "id": "ab9df68a",
   "metadata": {},
   "outputs": [
    {
     "data": {
      "text/plain": [
       "'Nraa'"
      ]
     },
     "execution_count": 12,
     "metadata": {},
     "output_type": "execute_result"
    }
   ],
   "source": [
    "s='Nirmala'\n",
    "s[::2]\n"
   ]
  },
  {
   "cell_type": "code",
   "execution_count": 13,
   "id": "69b1c758",
   "metadata": {},
   "outputs": [
    {
     "name": "stdout",
     "output_type": "stream",
     "text": [
      "Elder = 48\n",
      "Youngest= 23\n"
     ]
    }
   ],
   "source": [
    "age=[23,36,48]\n",
    "print('Elder =',max(age))\n",
    "print('Youngest=',min(age))"
   ]
  },
  {
   "cell_type": "code",
   "execution_count": null,
   "id": "4218750d",
   "metadata": {},
   "outputs": [],
   "source": []
  }
 ],
 "metadata": {
  "kernelspec": {
   "display_name": "Python 3 (ipykernel)",
   "language": "python",
   "name": "python3"
  },
  "language_info": {
   "codemirror_mode": {
    "name": "ipython",
    "version": 3
   },
   "file_extension": ".py",
   "mimetype": "text/x-python",
   "name": "python",
   "nbconvert_exporter": "python",
   "pygments_lexer": "ipython3",
   "version": "3.11.5"
  }
 },
 "nbformat": 4,
 "nbformat_minor": 5
}
